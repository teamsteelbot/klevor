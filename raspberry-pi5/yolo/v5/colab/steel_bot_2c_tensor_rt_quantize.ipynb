{
 "nbformat": 4,
 "nbformat_minor": 0,
 "metadata": {
  "colab": {
   "provenance": [],
   "toc_visible": true,
   "gpuType": "T4"
  },
  "kernelspec": {
   "name": "python3",
   "display_name": "Python 3"
  },
  "language_info": {
   "name": "python"
  },
  "accelerator": "GPU"
 },
 "cells": [
  {
   "cell_type": "code",
   "metadata": {
    "colab": {
     "base_uri": "https://localhost:8080/"
    },
    "id": "XLkmHs4DWRFB",
    "outputId": "3257a442-06f4-47e5-ece8-23d3584eb0a9"
   },
   "source": [
    "from google.colab import drive\n",
    "\n",
    "drive.mount('/content/drive')"
   ],
   "outputs": [],
   "execution_count": null
  },
  {
   "cell_type": "code",
   "source": [
    "import zipfile\n",
    "import os\n",
    "\n",
    "zip_path = f'/content/drive/MyDrive/Colab Files/steel_bot_2c_to_quantize.zip'\n",
    "extract_path = f'/content/drive/MyDrive/Colab Files/steel_bot_2c_to_quantize'\n",
    "\n",
    "if not os.path.exists(extract_path):\n",
    "    os.makedirs(extract_path)\n",
    "\n",
    "with zipfile.ZipFile(zip_path, 'r') as zip_ref:\n",
    "    zip_ref.extractall(extract_path)\n",
    "\n",
    "os.chdir(f'/content/drive/MyDrive/Colab Files/steel_bot_2c_to_quantize')"
   ],
   "metadata": {
    "id": "grAEZsT9tOLX",
    "colab": {
     "base_uri": "https://localhost:8080/",
     "height": 321
    },
    "outputId": "7619e3d7-cd22-4a44-f6bd-a64658991a76"
   },
   "outputs": [],
   "execution_count": null
  },
  {
   "cell_type": "code",
   "source": [
    "!pip install ultralytics"
   ],
   "metadata": {
    "colab": {
     "base_uri": "https://localhost:8080/"
    },
    "id": "LFrU7BsAJWqW",
    "outputId": "edd1a1b6-f0d6-4cff-da80-da7d02645bb4"
   },
   "outputs": [],
   "execution_count": null
  },
  {
   "cell_type": "code",
   "source": [
    "from model.model_yolo import export_tensor_rt, get_model_best_pt_path\n",
    "from yolo import YOLO_VERSION_5, YOLO_MODEL_2C\n",
    "\n",
    "# Get the best PyTorch model\n",
    "model = get_model_best_pt_path(YOLO_MODEL_2C, YOLO_VERSION_5)\n",
    "\n",
    "export_tensor_rt(model, True)"
   ],
   "metadata": {
    "id": "Wqur0mDBtjuE",
    "colab": {
     "base_uri": "https://localhost:8080/"
    },
    "outputId": "31b538fa-a9ac-4465-fecd-d12db291d0d5"
   },
   "outputs": [],
   "execution_count": null
  }
 ]
}
